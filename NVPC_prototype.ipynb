{
 "cells": [
  {
   "cell_type": "markdown",
   "id": "67723580-ccb3-47b0-9668-124ff765e942",
   "metadata": {},
   "source": [
    "# NVPC Chatbot\n",
    "This is a practice chatbot. All databases used in this bot are either public or fictional.\n",
    "\n",
    "#### Functions:\n",
    "- provides instant answers to common questions, based on giving.sg FAQ\n",
    "- suggests campaigns that are most similar to user's interest"
   ]
  },
  {
   "cell_type": "markdown",
   "id": "beeaeb9e-06fc-48fa-b9ac-2b605e67cccc",
   "metadata": {},
   "source": [
    "### Setting up Environment"
   ]
  },
  {
   "cell_type": "code",
   "execution_count": 1,
   "id": "7c6a897e-8894-4626-bb79-1607d33873ea",
   "metadata": {},
   "outputs": [],
   "source": [
    "import os\n",
    "import json\n",
    "import re\n",
    "import numpy as np\n",
    "from langchain.llms import OpenAI\n",
    "from sentence_transformers import SentenceTransformer\n",
    "from sklearn.metrics.pairwise import cosine_similarity\n",
    "import gradio as gr\n",
    "from rapidfuzz import process, fuzz"
   ]
  },
  {
   "cell_type": "code",
   "execution_count": 2,
   "id": "0371e8b0-53f2-4398-b85c-5961df934cd8",
   "metadata": {
    "scrolled": true
   },
   "outputs": [
    {
     "name": "stderr",
     "output_type": "stream",
     "text": [
      "C:\\Users\\Olivi\\anaconda3\\envs\\Jupyter_env\\Lib\\site-packages\\langchain\\llms\\openai.py:202: UserWarning: You are trying to use a chat model. This way of initializing it is no longer supported. Instead, please use: `from langchain.chat_models import ChatOpenAI`\n",
      "  warnings.warn(\n",
      "C:\\Users\\Olivi\\anaconda3\\envs\\Jupyter_env\\Lib\\site-packages\\langchain\\llms\\openai.py:790: UserWarning: You are trying to use a chat model. This way of initializing it is no longer supported. Instead, please use: `from langchain.chat_models import ChatOpenAI`\n",
      "  warnings.warn(\n"
     ]
    }
   ],
   "source": [
    "os.environ[\"OPENAI_API_KEY\"] = \"voc-183321194312667737058046757cd49b1d8b6.91865541\"\n",
    "os.environ[\"OPENAI_API_BASE\"] = \"https://openai.vocareum.com/v1\"\n",
    "\n",
    "model_name = \"gpt-3.5-turbo\"\n",
    "temperature = 0.0\n",
    "llm = OpenAI(model_name=model_name, temperature=temperature, max_tokens=2000)\n",
    "\n",
    "# Initialize an embedding model for semantic search\n",
    "embedding_model = SentenceTransformer(\"all-MiniLM-L6-v2\")"
   ]
  },
  {
   "cell_type": "markdown",
   "id": "c04732b3-948c-4db0-b908-75b75385d7e9",
   "metadata": {},
   "source": [
    "### FAQ Functionality"
   ]
  },
  {
   "cell_type": "code",
   "execution_count": 3,
   "id": "88ea373a-9971-40bf-bc1f-96df3a5018e7",
   "metadata": {},
   "outputs": [],
   "source": [
    "faqs = [\n",
    "    {\n",
    "        \"question\": \"What is giving.sg?\",\n",
    "        \"answer\": \"giving.sg is a platform that connects individuals with social campaigns and charitable causes in Singapore.\"\n",
    "    },\n",
    "    {\n",
    "        \"question\": \"How do I donate?\",\n",
    "        \"answer\": \"You can donate by visiting the specific campaign page on giving.sg and following the donation instructions provided.\"\n",
    "    },\n",
    "    {\n",
    "        \"question\": \"How do I start a campaign?\",\n",
    "        \"answer\": \"To start a campaign, register on giving.sg, submit your campaign details, and wait for approval from the giving.sg team.\"\n",
    "    },\n",
    "    {\n",
    "        \"question\": \"Is my donation tax-deductible?\",\n",
    "        \"answer\": \"Yes, donations made via giving.sg may be eligible for tax deductions, depending on the charity's registration and local tax regulations.\"\n",
    "    },\n",
    "    {\n",
    "        \"question\": \"How can I volunteer?\",\n",
    "        \"answer\": \"If you wish to volunteer, check out the volunteer opportunities listed on giving.sg or contact the charity directly.\"\n",
    "    },\n",
    "    {\n",
    "        \"question\": \"What types of campaigns are featured?\",\n",
    "        \"answer\": \"giving.sg features a wide range of campaigns including education, healthcare, community development, environmental causes, and more.\"\n",
    "    },\n",
    "    {\n",
    "        \"question\": \"How do I contact support?\",\n",
    "        \"answer\": \"For support, please visit the 'Contact Us' section on giving.sg where you can find our email and hotline details.\"\n",
    "    },\n",
    "    {\n",
    "        \"question\": \"What is the mission of giving.sg?\",\n",
    "        \"answer\": \"The mission of giving.sg is to create a more connected and compassionate community by bridging the gap between those who want to help and those in need.\"\n",
    "    }\n",
    "]"
   ]
  },
  {
   "cell_type": "code",
   "execution_count": 4,
   "id": "030ff34c-22c9-4d1b-8180-36e9c82e8a84",
   "metadata": {},
   "outputs": [],
   "source": [
    "# Pre-compute embeddings for FAQ questions.\n",
    "faq_questions = [faq[\"question\"] for faq in faqs]\n",
    "faq_embeddings = embedding_model.encode(faq_questions)"
   ]
  },
  {
   "cell_type": "code",
   "execution_count": 5,
   "id": "dfa1b393-44da-4de7-8f54-a65f0a98e2bd",
   "metadata": {},
   "outputs": [],
   "source": [
    "def answer_faq(user_question, threshold=0.7):\n",
    "    \"\"\"\n",
    "    Answer a user's FAQ question by finding the closest match in the FAQ dataset.\n",
    "    If no close match is found, fallback to the LLM to generate a response.\n",
    "    \"\"\"\n",
    "    user_embedding = embedding_model.encode([user_question])\n",
    "    similarities = cosine_similarity(user_embedding, faq_embeddings)[0]\n",
    "    best_idx = np.argmax(similarities)\n",
    "    if similarities[best_idx] >= threshold:\n",
    "        return faqs[best_idx][\"answer\"]\n",
    "    else:\n",
    "        prompt = f\"I have an FAQ sheet for giving.sg. When a user asks: '{user_question}', provide a helpful answer using that FAQ as reference.\"\n",
    "        return llm(prompt)"
   ]
  },
  {
   "cell_type": "markdown",
   "id": "67652c7c-4255-46f6-8562-db1cdd3cef1e",
   "metadata": {},
   "source": [
    "### Campaign Recommendation Functionality"
   ]
  },
  {
   "cell_type": "code",
   "execution_count": 6,
   "id": "af762dd2-a46d-4ee9-a0d1-eac4353c6781",
   "metadata": {},
   "outputs": [],
   "source": [
    "# Defining a sample campaigns dataset (11 listings)\n",
    "campaigns = [\n",
    "    {\n",
    "        \"title\": \"Education for All\",\n",
    "        \"target_demographic\": \"Underprivileged children and youth\",\n",
    "        \"charity_name\": \"EduHope\",\n",
    "        \"about_charity\": \"EduHope provides free tutoring, scholarships, and educational resources to children in need across Singapore.\",\n",
    "        \"how_to_support\": \"Donate funds, volunteer as a tutor, or provide school supplies.\"\n",
    "    },\n",
    "    {\n",
    "        \"title\": \"Healthcare for All\",\n",
    "        \"target_demographic\": \"Low-income families\",\n",
    "        \"charity_name\": \"HealthFirst\",\n",
    "        \"about_charity\": \"HealthFirst delivers essential medical services and subsidized healthcare to underserved communities.\",\n",
    "        \"how_to_support\": \"Donate money or volunteer at community clinics.\"\n",
    "    },\n",
    "    {\n",
    "        \"title\": \"Elderly Empowerment\",\n",
    "        \"target_demographic\": \"Senior citizens\",\n",
    "        \"charity_name\": \"GoldenYears\",\n",
    "        \"about_charity\": \"GoldenYears offers assistance programs, social events, and community support for the elderly.\",\n",
    "        \"how_to_support\": \"Donate or volunteer time to assist seniors.\"\n",
    "    },\n",
    "    {\n",
    "        \"title\": \"Youth Empowerment\",\n",
    "        \"target_demographic\": \"Young adults and students\",\n",
    "        \"charity_name\": \"FutureLeaders\",\n",
    "        \"about_charity\": \"FutureLeaders mentors and trains youth to develop leadership and entrepreneurial skills.\",\n",
    "        \"how_to_support\": \"Donate, mentor, or sponsor educational workshops.\"\n",
    "    },\n",
    "    {\n",
    "        \"title\": \"Community Green Spaces\",\n",
    "        \"target_demographic\": \"Urban communities\",\n",
    "        \"charity_name\": \"GreenCity\",\n",
    "        \"about_charity\": \"GreenCity creates and maintains public parks and community gardens to promote environmental wellness.\",\n",
    "        \"how_to_support\": \"Donate funds or volunteer for garden projects.\"\n",
    "    },\n",
    "    {\n",
    "        \"title\": \"Animal Welfare\",\n",
    "        \"target_demographic\": \"Animal lovers and pet owners\",\n",
    "        \"charity_name\": \"Paws & Claws\",\n",
    "        \"about_charity\": \"Paws & Claws rescues abandoned animals and provides veterinary care and shelter.\",\n",
    "        \"how_to_support\": \"Donate, foster animals, or volunteer at shelters.\"\n",
    "    },\n",
    "    {\n",
    "        \"title\": \"Women Empowerment\",\n",
    "        \"target_demographic\": \"Women and girls\",\n",
    "        \"charity_name\": \"SheRise\",\n",
    "        \"about_charity\": \"SheRise provides career training, mentorship, and support programs to empower women.\",\n",
    "        \"how_to_support\": \"Donate funds or volunteer as a mentor.\"\n",
    "    },\n",
    "    {\n",
    "        \"title\": \"Disaster Relief\",\n",
    "        \"target_demographic\": \"Communities affected by disasters\",\n",
    "        \"charity_name\": \"ReliefNow\",\n",
    "        \"about_charity\": \"ReliefNow provides immediate aid and long-term recovery support for disaster-stricken areas.\",\n",
    "        \"how_to_support\": \"Donate funds, supplies, or volunteer for relief efforts.\"\n",
    "    },\n",
    "    {\n",
    "        \"title\": \"Mental Health Awareness\",\n",
    "        \"target_demographic\": \"General public\",\n",
    "        \"charity_name\": \"MindCare\",\n",
    "        \"about_charity\": \"MindCare raises awareness, offers counseling, and supports mental health initiatives.\",\n",
    "        \"how_to_support\": \"Donate or participate in mental health awareness events.\"\n",
    "    },\n",
    "    {\n",
    "        \"title\": \"Environmental Sustainability\",\n",
    "        \"target_demographic\": \"Environment advocates\",\n",
    "        \"charity_name\": \"EcoFuture\",\n",
    "        \"about_charity\": \"EcoFuture works on sustainability projects and environmental conservation efforts.\",\n",
    "        \"how_to_support\": \"Donate funds or volunteer in sustainability programs.\"\n",
    "    },\n",
    "    {\n",
    "        \"title\": \"Food for the Needy\",\n",
    "        \"target_demographic\": \"Low-income communities\",\n",
    "        \"charity_name\": \"FoodShare\",\n",
    "        \"about_charity\": \"FoodShare collects surplus food and distributes it to families in need.\",\n",
    "        \"how_to_support\": \"Donate funds or contribute food items.\"\n",
    "    }\n",
    "]"
   ]
  },
  {
   "cell_type": "markdown",
   "id": "85e2aded-86ea-4c0b-9958-8792ff060a5d",
   "metadata": {},
   "source": [
    "### Query expansion with keywords and fuzzy matching"
   ]
  },
  {
   "cell_type": "code",
   "execution_count": 7,
   "id": "b856c715-7cd1-493d-bfe2-110e0a7004b5",
   "metadata": {},
   "outputs": [],
   "source": [
    "def get_campaign_keywords(campaigns):\n",
    "    \"\"\"\n",
    "    Extract unique keywords from all fields of the campaign database.\n",
    "    \"\"\"\n",
    "    all_text = \" \".join(\n",
    "        campaign[\"title\"] + \" \" + campaign[\"target_demographic\"] + \" \" +\n",
    "        campaign[\"charity_name\"] + \" \" + campaign[\"about_charity\"] + \" \" +\n",
    "        campaign[\"how_to_support\"] for campaign in campaigns\n",
    "    )\n",
    "    words = re.findall(r'\\w+', all_text.lower())\n",
    "    # Remove common stopwords and short words\n",
    "    stopwords = {\"the\", \"and\", \"a\", \"of\", \"to\", \"in\", \"for\", \"with\", \"on\", \"at\", \"by\", \"is\", \"are\", \"as\"}\n",
    "    filtered_words = [word for word in words if word not in stopwords and len(word) > 2]\n",
    "    return list(set(filtered_words))\n",
    "\n",
    "# Get the list of keywords from the campaign database.\n",
    "campaign_keywords = get_campaign_keywords(campaigns)"
   ]
  },
  {
   "cell_type": "code",
   "execution_count": 8,
   "id": "895e208e-4113-4c3f-bc93-d2b060914991",
   "metadata": {},
   "outputs": [],
   "source": [
    "def expand_query(query, keywords, threshold=80):\n",
    "    \"\"\"\n",
    "    Expand the user query by comparing each word in the query to the list of campaign keywords.\n",
    "    If a keyword is a close fuzzy match to a query word (above the threshold), add it to the query.\n",
    "    \"\"\"\n",
    "    query_words = re.findall(r'\\w+', query.lower())\n",
    "    expanded = set(query_words)\n",
    "    for qword in query_words:\n",
    "        # Find keywords that have a high fuzzy match score with qword.\n",
    "        matches = process.extract(qword, keywords, scorer=fuzz.ratio, score_cutoff=threshold)\n",
    "        for match, score, _ in matches:\n",
    "            expanded.add(match)\n",
    "    return \" \".join(expanded)"
   ]
  },
  {
   "cell_type": "markdown",
   "id": "b8ec3798-cbed-4d51-b9a6-fbfeeffdbc39",
   "metadata": {},
   "source": [
    "### Personalisation"
   ]
  },
  {
   "cell_type": "code",
   "execution_count": 15,
   "id": "ec97a65a-0d3a-4bab-9179-b5c0b82cd8bc",
   "metadata": {},
   "outputs": [],
   "source": [
    "def recommend_campaigns(user_interests, threshold=0.3):\n",
    "    \"\"\"\n",
    "    Recommend campaigns based on the user's interests.\n",
    "    The user query is expanded using all keywords from the campaign database via fuzzy matching.\n",
    "    \"\"\"\n",
    "    expanded_query = expand_query(user_interests, campaign_keywords)\n",
    "    query_embedding = embedding_model.encode([expanded_query])\n",
    "    recommended = []\n",
    "    for campaign in campaigns:\n",
    "        # Combine several fields for a richer representation.\n",
    "        combined_text = f\"{campaign['title']} {campaign['target_demographic']} {campaign['about_charity']}\"\n",
    "        combined_embedding = embedding_model.encode([combined_text])\n",
    "        sim = cosine_similarity(query_embedding, combined_embedding)[0][0]\n",
    "        if sim >= threshold:\n",
    "            recommended.append((campaign, sim))\n",
    "    # Optionally, sort by similarity.\n",
    "    recommended.sort(key=lambda x: x[1], reverse=True)\n",
    "    return [r[0] for r in recommended]\n"
   ]
  },
  {
   "cell_type": "code",
   "execution_count": 16,
   "id": "4d81e3fe-aeb6-4f46-b44a-8b48b8184098",
   "metadata": {},
   "outputs": [],
   "source": [
    "def personalized_campaign_summary(campaign, user_interests):\n",
    "    \"\"\"\n",
    "    Use the LLM to generate a personalized paragraph that explains why\n",
    "    the campaign matches the user's interests, including detailed campaign information.\n",
    "    \"\"\"\n",
    "    prompt = f\"\"\"\n",
    "You are a helpful assistant tasked with explaining how a charitable campaign matches a user's interests. Below are the details:\n",
    "\n",
    "User Interests: {user_interests}\n",
    "\n",
    "Campaign Details:\n",
    "Title: {campaign['title']}\n",
    "Target Demographic: {campaign['target_demographic']}\n",
    "Charity Name: {campaign['charity_name']}\n",
    "About the Charity: {campaign['about_charity']}\n",
    "How to Support: {campaign['how_to_support']}\n",
    "\n",
    "Write a detailed, engaging paragraph that explains how this campaign is a great match for the user's interests, and include all the relevant details.\n",
    "\"\"\"\n",
    "    explanation = llm(prompt)\n",
    "    return explanation.strip()"
   ]
  },
  {
   "cell_type": "code",
   "execution_count": 17,
   "id": "8ab18b1b-a8c5-4a8d-bebe-15470dc34cff",
   "metadata": {},
   "outputs": [],
   "source": [
    "def campaign_details(user_interests):\n",
    "    \"\"\"\n",
    "    Returns a personalized output with detailed campaign information\n",
    "    for campaigns matching the user's interests.\n",
    "    \"\"\"\n",
    "    recommended = recommend_campaigns(user_interests)\n",
    "    if not recommended:\n",
    "        return \"No campaigns match your interests. Please try a different description.\"\n",
    "    \n",
    "    output_str = \"\"\n",
    "    for campaign in recommended:\n",
    "        personalized_text = personalized_campaign_summary(campaign, user_interests)\n",
    "        output_str += personalized_text + \"\\n\\n\" + \"-\"*50 + \"\\n\\n\"\n",
    "    return output_str"
   ]
  },
  {
   "cell_type": "markdown",
   "id": "b7c02d72-7c41-4f69-8a03-2d46b5fcc0bc",
   "metadata": {},
   "source": [
    "### GRADIO INTERFACE FUNCTIONS"
   ]
  },
  {
   "cell_type": "code",
   "execution_count": 18,
   "id": "72b9aeeb-0666-4c67-bf39-c966784eb44b",
   "metadata": {},
   "outputs": [],
   "source": [
    "def faq_bot(user_question):\n",
    "    \"\"\"Wrapper for answering FAQ questions.\"\"\"\n",
    "    return answer_faq(user_question)\n",
    "\n",
    "def campaign_bot(user_interests):\n",
    "    \"\"\"Wrapper for providing detailed campaign recommendations.\"\"\"\n",
    "    return campaign_details(user_interests)"
   ]
  },
  {
   "cell_type": "code",
   "execution_count": 19,
   "id": "80693a87-0544-4ec0-8e5f-2dd254ee3888",
   "metadata": {},
   "outputs": [],
   "source": [
    "# Create two Gradio interfaces for the FAQ and Campaign recommendation functionalities.\n",
    "faq_interface = gr.Interface(\n",
    "    fn=faq_bot,\n",
    "    inputs=gr.Textbox(lines=2, placeholder=\"Enter your FAQ question here...\", label=\"FAQ Question\"),\n",
    "    outputs=gr.Textbox(label=\"Answer\"),\n",
    "    title=\"giving.sg FAQ Chatbot\",\n",
    "    description=\"Ask any questions related to giving.sg. This uses the FAQ dataset from the giving.sg FAQ page.\"\n",
    ")\n",
    "\n",
    "campaign_interface = gr.Interface(\n",
    "    fn=campaign_bot,\n",
    "    inputs=gr.Textbox(lines=2, placeholder=\"Describe your campaign interests here...\", label=\"Your Interests\"),\n",
    "    outputs=gr.Textbox(label=\"Recommended Campaigns\"),\n",
    "    title=\"giving.sg Campaign Recommender\",\n",
    "    description=\"Get detailed campaign recommendations based on your interests.\"\n",
    ")\n",
    "\n",
    "# Combine the two interfaces into a tabbed layout.\n",
    "tabbed_interface = gr.TabbedInterface([faq_interface, campaign_interface], tab_names=[\"FAQ\", \"Campaigns\"])"
   ]
  },
  {
   "cell_type": "code",
   "execution_count": 20,
   "id": "a6ed2cef-524d-47ec-bb41-f7a1b7ee12ed",
   "metadata": {},
   "outputs": [
    {
     "name": "stdout",
     "output_type": "stream",
     "text": [
      "* Running on local URL:  http://127.0.0.1:7861\n",
      "\n",
      "To create a public link, set `share=True` in `launch()`.\n"
     ]
    },
    {
     "data": {
      "text/html": [
       "<div><iframe src=\"http://127.0.0.1:7861/\" width=\"100%\" height=\"500\" allow=\"autoplay; camera; microphone; clipboard-read; clipboard-write;\" frameborder=\"0\" allowfullscreen></iframe></div>"
      ],
      "text/plain": [
       "<IPython.core.display.HTML object>"
      ]
     },
     "metadata": {},
     "output_type": "display_data"
    },
    {
     "data": {
      "text/plain": []
     },
     "execution_count": 20,
     "metadata": {},
     "output_type": "execute_result"
    }
   ],
   "source": [
    "# Launch the Gradio demo.\n",
    "tabbed_interface.launch()"
   ]
  },
  {
   "cell_type": "code",
   "execution_count": null,
   "id": "9d4a9f74-6b01-4bb8-9177-70d87ebeb095",
   "metadata": {},
   "outputs": [],
   "source": []
  }
 ],
 "metadata": {
  "kernelspec": {
   "display_name": "Python 3 (ipykernel)",
   "language": "python",
   "name": "python3"
  },
  "language_info": {
   "codemirror_mode": {
    "name": "ipython",
    "version": 3
   },
   "file_extension": ".py",
   "mimetype": "text/x-python",
   "name": "python",
   "nbconvert_exporter": "python",
   "pygments_lexer": "ipython3",
   "version": "3.11.11"
  }
 },
 "nbformat": 4,
 "nbformat_minor": 5
}
